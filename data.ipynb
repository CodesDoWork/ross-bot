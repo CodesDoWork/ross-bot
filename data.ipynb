{
 "cells": [
  {
   "cell_type": "code",
   "id": "initial_id",
   "metadata": {
    "collapsed": true,
    "ExecuteTime": {
     "end_time": "2024-09-21T13:14:40.150745Z",
     "start_time": "2024-09-21T13:14:35.555589Z"
    }
   },
   "source": "from src.data import get_df",
   "outputs": [],
   "execution_count": 1
  },
  {
   "metadata": {
    "ExecuteTime": {
     "end_time": "2024-09-21T13:14:40.164494Z",
     "start_time": "2024-09-21T13:14:40.152107Z"
    }
   },
   "cell_type": "code",
   "source": "df = get_df()",
   "id": "1fc27090dbc51c42",
   "outputs": [],
   "execution_count": 2
  },
  {
   "metadata": {
    "ExecuteTime": {
     "end_time": "2024-09-21T20:04:09.462419Z",
     "start_time": "2024-09-21T20:04:09.455001Z"
    }
   },
   "cell_type": "code",
   "source": "df[df[\"email\"].str.contains(\"alexander.becker@rossmann-beispiel.de\", case=False, na=False)][\"name\"].values[0]",
   "id": "f3ed5d8f7645cdec",
   "outputs": [
    {
     "data": {
      "text/plain": [
       "'Alexander Becker'"
      ]
     },
     "execution_count": 20,
     "metadata": {},
     "output_type": "execute_result"
    }
   ],
   "execution_count": 20
  },
  {
   "metadata": {
    "ExecuteTime": {
     "end_time": "2024-09-21T13:16:19.697740Z",
     "start_time": "2024-09-21T13:16:19.687033Z"
    }
   },
   "cell_type": "code",
   "source": "list(map(lambda row: row[\"name\"], df.iloc))",
   "id": "41530d97bd0465ac",
   "outputs": [
    {
     "data": {
      "text/plain": [
       "['Lars Müller',\n",
       " 'Sarah Wagner',\n",
       " 'Johannes Schmidt',\n",
       " 'Julia Neumann',\n",
       " 'Thomas Becker',\n",
       " 'Anna Fischer',\n",
       " 'Peter Hoffmann',\n",
       " 'Laura Klein',\n",
       " 'Markus Braun',\n",
       " 'Lisa Meier',\n",
       " 'Christian Weber',\n",
       " 'Melanie Richter',\n",
       " 'Stefan Krüger',\n",
       " 'Katrin Wolf',\n",
       " 'David Schulz',\n",
       " 'Sabine Lehmann',\n",
       " 'Florian Sommer',\n",
       " 'Jessica Koch',\n",
       " 'Alexander König',\n",
       " 'Vanessa Lang',\n",
       " 'Martin Berg',\n",
       " 'Claudia Schröder',\n",
       " 'Felix Lange',\n",
       " 'Tanja Fuchs',\n",
       " 'Robert Schmitt',\n",
       " 'Patrick Müller',\n",
       " 'Stefanie Krause',\n",
       " 'Klaus Meier',\n",
       " 'Sergej Becker',\n",
       " 'Sandra Weber',\n",
       " 'Stefan Fischer',\n",
       " 'Michael Schmitt',\n",
       " 'Felix Braun',\n",
       " 'Stefan Lang',\n",
       " 'André Schmidt',\n",
       " 'Oliver Müller',\n",
       " 'Tim Bauer',\n",
       " 'Enno Maier',\n",
       " 'Matthias Hoffmann',\n",
       " 'Andree Weber',\n",
       " 'Sebastian Wagner',\n",
       " 'Tim Kühn',\n",
       " 'Christian Klein',\n",
       " 'Sascha Peters',\n",
       " 'Alexander Becker',\n",
       " 'Claudia Wolf',\n",
       " 'Niklas Schulz',\n",
       " 'Laura Schröder',\n",
       " 'Andreas Meissner',\n",
       " 'Tobias Lang',\n",
       " 'Carla Neumann',\n",
       " 'Peter Hanke',\n",
       " 'Lisa Brandt',\n",
       " 'Karl Bauer',\n",
       " 'Anna Meyer',\n",
       " 'Thomas Weber',\n",
       " 'Michael Fischer',\n",
       " 'Clara Braun',\n",
       " 'Jonas Becker',\n",
       " 'Laura Klein',\n",
       " 'Martin Wagner',\n",
       " 'Julia Meier',\n",
       " 'David Klein',\n",
       " 'Lena Fischer',\n",
       " 'Tim Schmitt',\n",
       " 'Florian Müller',\n",
       " 'Sarah Neumann',\n",
       " 'Alexander Schmidt',\n",
       " 'Nadine Weber',\n",
       " 'Robert Hofmann',\n",
       " 'Sarah Kühn',\n",
       " 'Thomas Maier',\n",
       " 'Laura Neumann',\n",
       " 'Tobias Schäfer',\n",
       " 'Jana Wagner',\n",
       " 'Markus Schmidt',\n",
       " 'Laura Fischer',\n",
       " 'Peter Weber',\n",
       " 'Anna Müller',\n",
       " 'Jonas Becker',\n",
       " 'Julia Meier',\n",
       " 'David Klein',\n",
       " 'Lena Fischer',\n",
       " 'Tim Schmitt',\n",
       " 'Florian Müller',\n",
       " 'Sarah Neumann',\n",
       " 'Alexander Schmidt',\n",
       " 'Nadine Weber',\n",
       " 'Robert Hofmann',\n",
       " 'Sarah Kühn',\n",
       " 'Thomas Maier',\n",
       " 'Laura Neumann',\n",
       " 'Tobias Schäfer',\n",
       " 'Jana Wagner',\n",
       " 'Michael Braun',\n",
       " 'Anna Becker',\n",
       " 'Felix Wagner',\n",
       " 'Clara Meier',\n",
       " 'Tim Becker',\n",
       " 'Felix Maier',\n",
       " 'Laura Becker',\n",
       " 'Tim Braun',\n",
       " 'Sarah Wagner',\n",
       " 'Jonas Klein',\n",
       " 'Paul Schmidt',\n",
       " 'Lena Fischer',\n",
       " 'Tim Becker',\n",
       " 'Anna Müller',\n",
       " 'Jonas Weber',\n",
       " 'Laura Braun',\n",
       " 'David Schmitt',\n",
       " 'Lena Wagner',\n",
       " 'Tim Klein',\n",
       " 'Sarah Fischer',\n",
       " 'Jonas Becker',\n",
       " 'Laura Meier',\n",
       " 'David Maier',\n",
       " 'Lena Schmitt',\n",
       " 'Tim Wagner',\n",
       " 'Anna Becker',\n",
       " 'Jonas Klein',\n",
       " 'Laura Wagner',\n",
       " 'David Schmitt',\n",
       " 'Lena Meier']"
      ]
     },
     "execution_count": 8,
     "metadata": {},
     "output_type": "execute_result"
    }
   ],
   "execution_count": 8
  }
 ],
 "metadata": {
  "kernelspec": {
   "display_name": "Python 3",
   "language": "python",
   "name": "python3"
  },
  "language_info": {
   "codemirror_mode": {
    "name": "ipython",
    "version": 2
   },
   "file_extension": ".py",
   "mimetype": "text/x-python",
   "name": "python",
   "nbconvert_exporter": "python",
   "pygments_lexer": "ipython2",
   "version": "2.7.6"
  }
 },
 "nbformat": 4,
 "nbformat_minor": 5
}
