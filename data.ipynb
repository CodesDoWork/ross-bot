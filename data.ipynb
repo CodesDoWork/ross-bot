{
 "cells": [
  {
   "cell_type": "code",
   "id": "initial_id",
   "metadata": {
    "collapsed": true,
    "ExecuteTime": {
     "end_time": "2024-09-21T08:41:56.463213Z",
     "start_time": "2024-09-21T08:41:53.764257Z"
    }
   },
   "source": "from src.data import get_df",
   "outputs": [],
   "execution_count": 1
  },
  {
   "metadata": {
    "ExecuteTime": {
     "end_time": "2024-09-21T08:41:56.482881Z",
     "start_time": "2024-09-21T08:41:56.463213Z"
    }
   },
   "cell_type": "code",
   "source": "df = get_df()",
   "id": "1fc27090dbc51c42",
   "outputs": [],
   "execution_count": 2
  },
  {
   "metadata": {
    "jupyter": {
     "is_executing": true
    }
   },
   "cell_type": "code",
   "source": "df.programs.str.split(\", \").explode().unique()",
   "id": "9a918c0d629c6765",
   "outputs": [],
   "execution_count": null
  },
  {
   "metadata": {
    "ExecuteTime": {
     "end_time": "2024-09-21T08:51:32.141479Z",
     "start_time": "2024-09-21T08:51:32.134427Z"
    }
   },
   "cell_type": "code",
   "source": "list(df.programs.str.split(\", \").explode().unique())",
   "id": "f3ed5d8f7645cdec",
   "outputs": [
    {
     "data": {
      "text/plain": [
       "['Netzwerkmanagement',\n",
       " 'Firewall',\n",
       " 'Data Warehouse',\n",
       " 'RPA Tools',\n",
       " 'Jira',\n",
       " 'Confluence',\n",
       " 'Trello',\n",
       " 'Slack',\n",
       " 'ArchiMate',\n",
       " 'TOGAF',\n",
       " 'Windows Server',\n",
       " 'Linux',\n",
       " 'SAP',\n",
       " 'Procurement Software',\n",
       " 'UiPath',\n",
       " 'Automation Anywhere',\n",
       " 'Git',\n",
       " 'Docker',\n",
       " 'MS Teams',\n",
       " 'Zoom',\n",
       " 'AWS',\n",
       " 'Azure',\n",
       " 'Cisco',\n",
       " 'Fortinet',\n",
       " 'Power BI',\n",
       " 'Tableau',\n",
       " 'MS Project',\n",
       " 'Asana',\n",
       " 'Jenkins',\n",
       " 'Kubernetes',\n",
       " 'ServiceNow',\n",
       " 'Blue Prism',\n",
       " 'AutomationEdge',\n",
       " 'Visual Studio',\n",
       " 'IntelliJ',\n",
       " 'Oracle',\n",
       " 'Zendesk',\n",
       " 'Freshdesk',\n",
       " 'MySQL',\n",
       " 'PostgreSQL',\n",
       " 'ChangeGear',\n",
       " 'Remedy',\n",
       " 'Visio',\n",
       " 'Enterprise Architect',\n",
       " 'Microsoft Licensing',\n",
       " 'Oracle Procurement',\n",
       " 'Contract Management',\n",
       " 'GDPR Compliance Tools',\n",
       " 'Qualys',\n",
       " 'Nessus',\n",
       " 'Splunk',\n",
       " 'ArcSight',\n",
       " 'Google Cloud',\n",
       " 'Java',\n",
       " 'Tomcat',\n",
       " 'Node.js',\n",
       " 'Spring Boot',\n",
       " 'VMware',\n",
       " 'Hyper-V',\n",
       " 'Ansible',\n",
       " 'Active Directory',\n",
       " 'Entra',\n",
       " 'Okta',\n",
       " 'SAML',\n",
       " 'SCCM',\n",
       " 'Matrix42',\n",
       " 'Ivanti',\n",
       " 'Auth0',\n",
       " 'JIRA',\n",
       " 'Qlik',\n",
       " 'Snowflake',\n",
       " 'Informatica',\n",
       " 'Atlassian',\n",
       " 'Azure Security Center',\n",
       " nan,\n",
       " 'Moodle',\n",
       " 'SAP Learning Hub',\n",
       " 'TensorFlow',\n",
       " 'PyTorch',\n",
       " 'scikit-learn',\n",
       " 'Keras',\n",
       " 'Apache Kafka',\n",
       " 'Spark',\n",
       " 'Python',\n",
       " 'R',\n",
       " 'Figma',\n",
       " 'Sketch',\n",
       " 'Django',\n",
       " 'React',\n",
       " 'Leaflet',\n",
       " 'C#',\n",
       " '.NET',\n",
       " 'PHP',\n",
       " 'Kotlin',\n",
       " 'Socket.IO',\n",
       " 'JavaScript',\n",
       " 'Flask',\n",
       " 'Ruby on Rails',\n",
       " 'Magento',\n",
       " 'Laravel',\n",
       " 'WordPress',\n",
       " 'Drupal',\n",
       " 'Swift',\n",
       " 'SAP Hybris']"
      ]
     },
     "execution_count": 14,
     "metadata": {},
     "output_type": "execute_result"
    }
   ],
   "execution_count": 14
  }
 ],
 "metadata": {
  "kernelspec": {
   "display_name": "Python 3",
   "language": "python",
   "name": "python3"
  },
  "language_info": {
   "codemirror_mode": {
    "name": "ipython",
    "version": 2
   },
   "file_extension": ".py",
   "mimetype": "text/x-python",
   "name": "python",
   "nbconvert_exporter": "python",
   "pygments_lexer": "ipython2",
   "version": "2.7.6"
  }
 },
 "nbformat": 4,
 "nbformat_minor": 5
}
